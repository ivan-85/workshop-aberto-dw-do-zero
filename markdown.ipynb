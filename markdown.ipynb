{
 "cells": [
  {
   "cell_type": "markdown",
   "metadata": {},
   "source": [
    "# cabecalho 1\n",
    "## cabecalho 2\n",
    "## cabecalho 3\n",
    "\n",
    "*asteristico* \n",
    "_sublinhado_\n",
    "\n",
    "**2 asteristico**\n",
    "__2 sublinhado__\n",
    "\n",
    "* teste\n",
    "\n",
    "- item 1\n",
    "- item 2\n",
    "\n",
    "1. item a\n",
    "2. item b\n",
    "\n",
    "\n",
    "```\n",
    "import numpy as np\n",
    "import pandas as pd\n",
    "df = pd.DataFrame()\n",
    "```\n",
    "\n",
    "- [x] tarefa executada\n",
    "- [] tarefa pendente\n",
    "\n",
    "\n",
    "\n",
    "[google](https://google.com)\n",
    "\n",
    "![foto](https://i.pinimg.com/originals/4c/94/15/4c94153ee21d1da42643e6e0eb5aa550.jpg)"
   ]
  }
 ],
 "metadata": {
  "language_info": {
   "name": "python"
  }
 },
 "nbformat": 4,
 "nbformat_minor": 2
}
